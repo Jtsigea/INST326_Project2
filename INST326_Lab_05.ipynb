{
 "cells": [
  {
   "cell_type": "markdown",
   "id": "1ca3e987",
   "metadata": {},
   "source": [
    "### Lab 05 Network Programming and Web Services"
   ]
  },
  {
   "cell_type": "markdown",
   "id": "43df392a",
   "metadata": {},
   "source": [
    "#### Enter your name here"
   ]
  },
  {
   "cell_type": "markdown",
   "id": "59d2ff49",
   "metadata": {},
   "source": [
    "**Exercise 1: Exploring the HyperText Transport Protocol**\n",
    "You are to retrieve the following document using the HTTP protocol in a way that you can examine the HTTP Response headers.  \n",
    "\n",
    "__[http://data.pr4e.org/intro-short.txt](http://data.pr4e.org/intro-short.txt)__\n",
    "There are three ways that you might retrieve this web page and look at the response headers:  \n",
    "\n",
    "Preferred: Modify the socket1.py program in the next cell to retrieve the above URL and print out the headers and data. Make sure to change the code to retrieve the above URL - the values are different for each URL.  \n",
    "\n",
    "Open the URL in a web browser with a developer console or FireBug and manually examine the headers that are returned.\n"
   ]
  },
  {
   "cell_type": "code",
   "execution_count": null,
   "id": "d8e65520",
   "metadata": {},
   "outputs": [],
   "source": [
    "import socket\n",
    "\n",
    "mysock = socket.socket(socket.AF_INET, socket.SOCK_STREAM)\n",
    "mysock.connect(('data.pr4e.org', 80))\n",
    "cmd = 'GET http://data.pr4e.org/romeo.txt HTTP/1.0\\r\\n\\r\\n'.encode()\n",
    "mysock.send(cmd)\n",
    "\n",
    "while True:\n",
    "    data = mysock.recv(512)\n",
    "    if len(data) < 1:\n",
    "        break\n",
    "    print(data.decode(),end='')\n",
    "\n",
    "mysock.close()"
   ]
  },
  {
   "cell_type": "markdown",
   "id": "cdb4588a",
   "metadata": {},
   "source": [
    "**Exercise 2: Scraping Numbers from HTML using BeautifulSoup**  \n",
    "In this assignment you will write a Python program similar to __[http://www.py4e.com/code3/urllink2.py](http://www.py4e.com/code3/urllink2.py)__. The program will use urllib to read the HTML from the data files below, and parse the data, extracting numbers and compute the sum of the numbers in the file.\n",
    "\n",
    "We provide two files for this assignment. One is a sample file where we give you the sum for your testing and the other is the actual data you need to process for the assignment.\n",
    "\n",
    "Sample data: __[http://py4e-data.dr-chuck.net/comments_42.html](http://py4e-data.dr-chuck.net/comments_42.html)__ (Sum=2553)\n",
    "Actual data: __[http://py4e-data.dr-chuck.net/comments_1844581.html](http://py4e-data.dr-chuck.net/comments_1844581.html)__ (Sum ends with 77)\n",
    "You do not need to save these files to your folder since your program will read the data directly from the URL.  \n",
    "\n",
    "Data Format\n",
    "The file is a table of names and comment counts. You can ignore most of the data in the file except for lines like the following:"
   ]
  },
  {
   "cell_type": "code",
   "execution_count": null,
   "id": "4fe78e4f",
   "metadata": {},
   "outputs": [],
   "source": [
    "<tr><td>Modu</td><td><span class=\"comments\">90</span></td></tr>\n",
    "<tr><td>Kenzie</td><td><span class=\"comments\">88</span></td></tr>\n",
    "<tr><td>Hubert</td><td><span class=\"comments\">87</span></td></tr>"
   ]
  },
  {
   "cell_type": "markdown",
   "id": "6a8e3a31",
   "metadata": {},
   "source": [
    "You are to find all the \\<span\\> tags in the file and pull out the numbers from the tag and sum the numbers.\n",
    "Look at the sample code provided. It shows how to find all of a certain kind of tag, loop through the tags and extract the various aspects of the tags."
   ]
  },
  {
   "cell_type": "code",
   "execution_count": null,
   "id": "dbdec8cd",
   "metadata": {},
   "outputs": [],
   "source": [
    "...\n",
    "# Retrieve all of the anchor tags\n",
    "tags = soup('a')\n",
    "for tag in tags:\n",
    "   # Look at the parts of a tag\n",
    "   print 'TAG:',tag\n",
    "   print 'URL:',tag.get('href', None)\n",
    "   print 'Contents:',tag.contents[0]\n",
    "   print 'Attrs:',tag.attrs"
   ]
  },
  {
   "cell_type": "markdown",
   "id": "9a5e2e2a",
   "metadata": {},
   "source": [
    "You need to adjust this code to look for span tags and pull out the text content of the span tag, convert them to integers and add them up to complete the assignment."
   ]
  },
  {
   "cell_type": "markdown",
   "id": "5d90a050",
   "metadata": {},
   "source": [
    "Sample execution and results\n",
    "$ python3 solution.py\n",
    "Enter - http://py4e-data.dr-chuck.net/comments_42.html\n",
    "Count 50\n",
    "Sum 2..."
   ]
  },
  {
   "cell_type": "markdown",
   "id": "3bddc8a8",
   "metadata": {},
   "source": [
    "** Exercise 3: Extracting Data from XML**  \n",
    "\n",
    "In this assignment you will write a Python program somewhat similar to __[http://www.py4e.com/code3/geoxml.py](http://www.py4e.com/code3/geoxml.py)__. The program will prompt for a URL, read the XML data from that URL using urllib and then parse and extract the comment counts from the XML data, compute the sum of the numbers in the file.\n",
    "\n",
    "We provide two files for this assignment. One is a sample file where we give you the sum for your testing and the other is the actual data you need to process for the assignment.\n",
    "\n",
    "Sample data: __[http://py4e-data.dr-chuck.net/comments_42.xml](http://py4e-data.dr-chuck.net/comments_42.xml)__ (Sum=2553)\n",
    "Actual data: __[http://py4e-data.dr-chuck.net/comments_1844583.xml]()__ (Sum ends with 68)\n",
    "You do not need to save these files to your folder since your program will read the data directly from the URL.  \n",
    "\n",
    "Data Format and Approach\n",
    "The data consists of a number of names and comment counts in XML as follows:"
   ]
  },
  {
   "cell_type": "code",
   "execution_count": null,
   "id": "b130b79d",
   "metadata": {},
   "outputs": [],
   "source": [
    "<comment>\n",
    "  <name>Matthias</name>\n",
    "  <count>97</count>\n",
    "</comment>"
   ]
  },
  {
   "cell_type": "markdown",
   "id": "e74d3a0a",
   "metadata": {},
   "source": [
    "You are to look through all the \\<comment\\> tags and find the \\<count\\> values sum the numbers. The closest sample code that shows how to parse XML is __[geoxml.py](https://www.py4e.com/code3/geoxml.py?PHPSESSID=c7574c53a3c637569618386c412a3e24)__. But since the nesting of the elements in our data is different than the data we are parsing in that sample code you will have to make real changes to the code.\n",
    "To make the code a little simpler, you can use an XPath selector string to look through the entire tree of XML for any tag named 'count' with the following line of code:"
   ]
  },
  {
   "cell_type": "code",
   "execution_count": null,
   "id": "fce7ed80",
   "metadata": {},
   "outputs": [],
   "source": [
    "counts = tree.findall('.//count')"
   ]
  },
  {
   "cell_type": "markdown",
   "id": "48cffa8c",
   "metadata": {},
   "source": [
    "Take a look at the Python ElementTree documentation and look for the supported XPath syntax for details. You could also work from the top of the XML down to the comments node and then loop through the child nodes of the comments node.  \n",
    "\n",
    "**Sample Execution**"
   ]
  },
  {
   "cell_type": "markdown",
   "id": "9f022aee",
   "metadata": {},
   "source": [
    "$ python3 solution.py\n",
    "Enter location: http://py4e-data.dr-chuck.net/comments_42.xml\n",
    "Retrieving http://py4e-data.dr-chuck.net/comments_42.xml\n",
    "Retrieved 4189 characters\n",
    "Count: 50\n",
    "Sum: 2..."
   ]
  },
  {
   "cell_type": "code",
   "execution_count": null,
   "id": "8846f5bd",
   "metadata": {},
   "outputs": [],
   "source": [
    "# enter your code here"
   ]
  },
  {
   "cell_type": "markdown",
   "id": "acdec6aa",
   "metadata": {},
   "source": [
    "**Exercise 4: Calling a JSON API**\n",
    "\n",
    "In this assignment you will write a Python program somewhat similar to __[http://www.py4e.com/code3/opengeo.py](http://www.py4e.com/code3/opengeo.py)__. The program will prompt for a location, contact a web service and retrieve JSON for the web service and parse that data, and retrieve the first plus_code from the JSON. An Open Location Code is a textual identifier that is another form of address based on the location of the address.\n",
    "API End Points\n",
    "\n",
    "To complete this assignment, you should use this API endpoint that has a static subset of the Open Street Map Data."
   ]
  },
  {
   "cell_type": "code",
   "execution_count": null,
   "id": "e76c4f30",
   "metadata": {},
   "outputs": [],
   "source": [
    "http://py4e-data.dr-chuck.net/opengeo?"
   ]
  },
  {
   "cell_type": "markdown",
   "id": "c35251b4",
   "metadata": {},
   "source": [
    "This API also has no rate limit so you can test as often as you like. If you visit the URL with no parameters, you get \"No address...\" response.\n",
    "To call the API, you need to provide the address that you are requesting as the q= parameter that is properly URL encoded using the urllib.parse.urlencode() function as shown in __[http://www.py4e.com/code3/opengeo.py](http://www.py4e.com/code3/opengeo.py)__\n",
    "\n",
    "Test Data / Sample Execution\n",
    "\n",
    "You can test to see if your program is working with a location of \"South Federal University\" which will have a plus_code of \"6FV8QPRJ+VQ\"."
   ]
  },
  {
   "cell_type": "markdown",
   "id": "af408356",
   "metadata": {},
   "source": [
    "$ python solution.py\n",
    "Enter location: South Federal University\n",
    "Retrieving http://...\n",
    "Retrieved 1466 characters\n",
    "Plus code 6FV8QPRJ+VQ"
   ]
  },
  {
   "cell_type": "markdown",
   "id": "7ee7f024",
   "metadata": {},
   "source": [
    "Please run your program to find the plus_code for this location:  \n",
    "\n",
    "University of Colorado at Boulder  \n",
    "\n",
    "Make sure to enter the name and case exactly as above and enter the plus_code and your Python code below. Hint: The first five characters of the plus_code are \"85GP2 ...\"  \n",
    "\n",
    "Make sure to retreive the data from the URL specified above and not the normal Google API. Your program should work with the Google API - but the plus_code may not match for this assignment."
   ]
  },
  {
   "cell_type": "code",
   "execution_count": null,
   "id": "0f3672cf",
   "metadata": {},
   "outputs": [],
   "source": [
    "# enter your code here"
   ]
  }
 ],
 "metadata": {
  "kernelspec": {
   "display_name": "Python 3 (ipykernel)",
   "language": "python",
   "name": "python3"
  },
  "language_info": {
   "codemirror_mode": {
    "name": "ipython",
    "version": 3
   },
   "file_extension": ".py",
   "mimetype": "text/x-python",
   "name": "python",
   "nbconvert_exporter": "python",
   "pygments_lexer": "ipython3",
   "version": "3.9.12"
  }
 },
 "nbformat": 4,
 "nbformat_minor": 5
}
